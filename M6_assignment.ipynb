{
 "cells": [
  {
   "cell_type": "code",
   "execution_count": 3,
   "id": "a2041bf2-035b-4e1f-9548-f6e673ba448a",
   "metadata": {},
   "outputs": [],
   "source": [
    "#13.1\n",
    "from datetime import datetime\n",
    "\n",
    "today = datetime.now()\n",
    "f = open(\"today.txt\", \"w\")\n",
    "f.write(today.strftime(\"%B %d, %Y\")) #formatting today's date\n",
    "f.close()"
   ]
  },
  {
   "cell_type": "code",
   "execution_count": 5,
   "id": "1b14339d-be60-450a-ad48-038c554751c1",
   "metadata": {},
   "outputs": [],
   "source": [
    "#13.2\n",
    "q = open(\"today.txt\", \"r\")\n",
    "today_date = str(q.read())"
   ]
  },
  {
   "cell_type": "code",
   "execution_count": 7,
   "id": "8f676ea5-928d-44d3-8288-4262888d2ec5",
   "metadata": {},
   "outputs": [
    {
     "name": "stdout",
     "output_type": "stream",
     "text": [
      "2024-09-25 00:00:00\n"
     ]
    }
   ],
   "source": [
    "#13.3\n",
    "print(datetime.strptime(today_date, \"%B %d, %Y\")) "
   ]
  },
  {
   "cell_type": "code",
   "execution_count": 2,
   "id": "c2476e55-9c1c-4e19-880e-3cc9bebd56f0",
   "metadata": {},
   "outputs": [],
   "source": [
    "# 15.1\n",
    "# NOTE: will not run in jupyter notebook, but runs just fine as standalone file\n",
    "\n",
    "import time\n",
    "import random\n",
    "import multiprocessing\n",
    "\n",
    "#waits a random number of seconds and reports process # +  time + how long it waited \n",
    "def randomWait(msg):\n",
    "    randomSec = random.randint(0,1)\n",
    "    #corrects grammar:\n",
    "    if randomSec == 0:\n",
    "        randomSecStr = \"0 seconds.\"\n",
    "    elif randomSec == 1:\n",
    "        randomSecStr = \"1 second.\"\n",
    "\n",
    "    time.sleep(randomSec)\n",
    "    nowStr=time.strftime(\"%X\", time.localtime())\n",
    "    print(\"%s, and the time is %s. I waited %s\" % (msg, nowStr, randomSecStr))\n",
    "\n",
    "#\n",
    "if __name__ == \"__main__\":\n",
    "    for n in range(1,4):\n",
    "        p = multiprocessing.Process(target=randomWait, args=(\"I'm function %s\" % n,))\n",
    "        p.start()"
   ]
  }
 ],
 "metadata": {
  "kernelspec": {
   "display_name": "Python 3 (ipykernel)",
   "language": "python",
   "name": "python3"
  },
  "language_info": {
   "codemirror_mode": {
    "name": "ipython",
    "version": 3
   },
   "file_extension": ".py",
   "mimetype": "text/x-python",
   "name": "python",
   "nbconvert_exporter": "python",
   "pygments_lexer": "ipython3",
   "version": "3.12.6"
  }
 },
 "nbformat": 4,
 "nbformat_minor": 5
}
